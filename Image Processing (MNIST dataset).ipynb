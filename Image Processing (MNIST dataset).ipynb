{
 "cells": [
  {
   "cell_type": "code",
   "execution_count": 1,
   "id": "5572e6c1",
   "metadata": {},
   "outputs": [
    {
     "name": "stdout",
     "output_type": "stream",
     "text": [
      "\n",
      "............................\n",
      "............................\n",
      "............................\n",
      "............................\n",
      "............................\n",
      "............................\n",
      "...............@@@@.........\n",
      ".............@@@@@@@........\n",
      "...........@@@@@..@@........\n",
      "..........@@@@@...@@........\n",
      "..........@@@.....@@........\n",
      "..................@@........\n",
      "..................@@........\n",
      ".................@@.........\n",
      ".............@@@@@@.........\n",
      "..........@@@@.@@@@.........\n",
      ".........@@....@@@@@........\n",
      "........@@....@@@..@@.......\n",
      ".......@@.....@@.....@@@@...\n",
      "......@@....@@..............\n",
      ".....@@@@@@@@...............\n",
      ".....@@@@@..................\n",
      "............................\n",
      "............................\n",
      "............................\n",
      "............................\n",
      "............................\n",
      "............................\n"
     ]
    }
   ],
   "source": [
    "# importing libraries\n",
    "import numpy as np\n",
    "import pandas as pd\n",
    "import matplotlib.pyplot as plt\n",
    "%matplotlib inline\n",
    "\n",
    "from sklearn.model_selection import train_test_split\n",
    "from sklearn.tree import DecisionTreeClassifier\n",
    "from mnist import MNIST\n",
    "\n",
    "mndata = MNIST('sample')\n",
    "\n",
    "#splitting the data into a training,development, and test set.\n",
    "train_ratio = 0.8571\n",
    "test_ratio = 0.0714\n",
    "dev_ratio = 0.0714\n",
    "\n",
    "images_train, labels_train = mndata.load_training()\n",
    "# or\n",
    "image_test, label_test = mndata.load_testing()\n",
    "\n",
    "images_dev, images_test, labels_dev, labels_test = train_test_split(image_test, label_test, test_size=test_ratio/(test_ratio + dev_ratio))\n",
    "\n",
    "index = 5\n",
    "print(mndata.display(images_train[index]))"
   ]
  },
  {
   "cell_type": "markdown",
   "id": "de5b6090",
   "metadata": {},
   "source": [
    "I have chosen boosting so  as to decrease overfitting and thus increase accuracy. I felt this critical as these are handwritten and will vary.\n",
    "\n",
    "I also chose boosting as I it would be redundant to have both bagging and boosting."
   ]
  },
  {
   "cell_type": "markdown",
   "id": "a2a587ef",
   "metadata": {},
   "source": [
    "# Boosting"
   ]
  },
  {
   "cell_type": "code",
   "execution_count": 4,
   "id": "d2b03412",
   "metadata": {},
   "outputs": [
    {
     "data": {
      "text/plain": [
       "DecisionTreeClassifier(max_depth=6, random_state=4)"
      ]
     },
     "execution_count": 4,
     "metadata": {},
     "output_type": "execute_result"
    }
   ],
   "source": [
    "# training a model with defined depth\n",
    "depth = 6\n",
    "pruned = DecisionTreeClassifier(max_depth=depth, random_state=4)\n",
    "pruned.fit(images_train, labels_train)"
   ]
  },
  {
   "cell_type": "code",
   "execution_count": 5,
   "id": "a0fd95cd",
   "metadata": {},
   "outputs": [
    {
     "name": "stdout",
     "output_type": "stream",
     "text": [
      "Accuracy base: 0.7384\n",
      "Accuracy of BoostClassifier: 0.845\n"
     ]
    }
   ],
   "source": [
    "from sklearn.ensemble import AdaBoostClassifier\n",
    "\n",
    "AdaBoost = AdaBoostClassifier(base_estimator= pruned,n_estimators=10,learning_rate=1)\n",
    "AdaBoost.fit(images_train,labels_train)\n",
    "print(\"Accuracy base:\",pruned.score(images_dev, labels_dev))\n",
    "print(\"Accuracy of BoostClassifier:\",AdaBoost.score(images_test, labels_test))"
   ]
  },
  {
   "cell_type": "markdown",
   "id": "876dec29",
   "metadata": {},
   "source": [
    "### Changing the learning rate"
   ]
  },
  {
   "cell_type": "code",
   "execution_count": 6,
   "id": "861ef450",
   "metadata": {},
   "outputs": [
    {
     "name": "stdout",
     "output_type": "stream",
     "text": [
      "Accuracy base: 0.1026\n",
      "Accuracy of BoostClassifier: 0.8746\n"
     ]
    }
   ],
   "source": [
    "#Changing the learning rate\n",
    "pruned = DecisionTreeClassifier(max_depth=depth, random_state=4)\n",
    "pruned.fit(images_train, labels_train)\n",
    "\n",
    "AdaBoost = AdaBoostClassifier(base_estimator= pruned,n_estimators=10,learning_rate=0.8)\n",
    "AdaBoost.fit(images_train,labels_train)\n",
    "print(\"Accuracy base:\",pruned.score(images_test, labels_dev))\n",
    "print(\"Accuracy of BoostClassifier:\",AdaBoost.score(images_test, labels_test))"
   ]
  },
  {
   "cell_type": "code",
   "execution_count": 15,
   "id": "1f642dbb",
   "metadata": {},
   "outputs": [
    {
     "name": "stderr",
     "output_type": "stream",
     "text": [
      "c:\\users\\user\\appdata\\local\\programs\\python\\python38\\lib\\site-packages\\sklearn\\utils\\deprecation.py:87: FutureWarning: Function plot_confusion_matrix is deprecated; Function `plot_confusion_matrix` is deprecated in 1.0 and will be removed in 1.2. Use one of the class methods: ConfusionMatrixDisplay.from_predictions or ConfusionMatrixDisplay.from_estimator.\n",
      "  warnings.warn(msg, category=FutureWarning)\n"
     ]
    },
    {
     "data": {
      "text/plain": [
       "<sklearn.metrics._plot.confusion_matrix.ConfusionMatrixDisplay at 0x15dde81ae20>"
      ]
     },
     "execution_count": 15,
     "metadata": {},
     "output_type": "execute_result"
    },
    {
     "data": {
      "image/png": "[encoded data removed]",
      "text/plain": [
       "<Figure size 432x288 with 2 Axes>"
      ]
     },
     "metadata": {
      "needs_background": "light"
     },
     "output_type": "display_data"
    }
   ],
   "source": [
    "#Confusion Matrix\n",
    "from sklearn.svm import SVC\n",
    "from sklearn.metrics import plot_confusion_matrix\n",
    "clf = SVC(random_state=0)\n",
    "clf.fit(images_train, labels_train)\n",
    "predicted = clf.predict(images_test)\n",
    "plot_confusion_matrix(clf, images_test, labels_test) "
   ]
  },
  {
   "cell_type": "markdown",
   "id": "caa32018",
   "metadata": {},
   "source": [
    "## Measuring Perfomance"
   ]
  },
  {
   "cell_type": "code",
   "execution_count": 16,
   "id": "90389067",
   "metadata": {},
   "outputs": [
    {
     "name": "stdout",
     "output_type": "stream",
     "text": [
      "              precision    recall  f1-score   support\n",
      "\n",
      "           0       0.98      0.99      0.99       498\n",
      "           1       0.99      0.99      0.99       538\n",
      "           2       0.97      0.97      0.97       521\n",
      "           3       0.98      0.99      0.98       502\n",
      "           4       0.99      0.97      0.98       488\n",
      "           5       0.98      0.98      0.98       454\n",
      "           6       0.98      0.98      0.98       491\n",
      "           7       0.97      0.97      0.97       515\n",
      "           8       0.97      0.97      0.97       475\n",
      "           9       0.96      0.96      0.96       518\n",
      "\n",
      "    accuracy                           0.98      5000\n",
      "   macro avg       0.98      0.98      0.98      5000\n",
      "weighted avg       0.98      0.98      0.98      5000\n",
      "\n"
     ]
    }
   ],
   "source": [
    "from sklearn.metrics import classification_report\n",
    "#prints classification_report     \n",
    "print(classification_report(labels_test, predicted))\n",
    "\n",
    "#returns a dict, which you can easily sort by prediction\n",
    "report = classification_report(labels_test, predicted, output_dict=True)"
   ]
  },
  {
   "cell_type": "markdown",
   "id": "11a97638",
   "metadata": {},
   "source": [
    "The models strugles the most with the number '4' is confused for '9'"
   ]
  },
  {
   "cell_type": "markdown",
   "id": "1c6ceb21",
   "metadata": {},
   "source": [
    "## Random Forrest"
   ]
  },
  {
   "cell_type": "code",
   "execution_count": 9,
   "id": "d07a1158",
   "metadata": {},
   "outputs": [
    {
     "name": "stdout",
     "output_type": "stream",
     "text": [
      "Train model\n",
      "Compute predictions\n",
      "Accuracy:  0.969\n"
     ]
    }
   ],
   "source": [
    "from sklearn.ensemble import RandomForestClassifier\n",
    "from sklearn.metrics import accuracy_score\n",
    "\n",
    "\n",
    "clf = RandomForestClassifier(n_estimators=100)\n",
    "\n",
    "print(\"Train model\")\n",
    "clf.fit(images_train, labels_train)\n",
    "#expected = labels[10000:11000].tolist()\n",
    "\n",
    "print(\"Compute predictions\")\n",
    "predicted = clf.predict(images_test)\n",
    "\n",
    "print(\"Accuracy: \", accuracy_score(labels_test, predicted))\n",
    "\n",
    "\n"
   ]
  },
  {
   "cell_type": "markdown",
   "id": "a51d25f3",
   "metadata": {},
   "source": [
    "### Changing n_estimators"
   ]
  },
  {
   "cell_type": "code",
   "execution_count": 10,
   "id": "203cefda",
   "metadata": {},
   "outputs": [
    {
     "name": "stdout",
     "output_type": "stream",
     "text": [
      "Train model\n",
      "Compute predictions\n",
      "Accuracy:  0.9712\n"
     ]
    }
   ],
   "source": [
    "# Changing n_estimators\n",
    "clf = RandomForestClassifier(n_estimators=150)\n",
    "\n",
    "print(\"Train model\")\n",
    "clf.fit(images_train, labels_train)\n",
    "#expected = labels[10000:11000].tolist()\n",
    "\n",
    "print(\"Compute predictions\")\n",
    "predicted = clf.predict(images_test)\n",
    "\n",
    "print(\"Accuracy: \", accuracy_score(labels_test, predicted))\n"
   ]
  },
  {
   "cell_type": "code",
   "execution_count": 11,
   "id": "418e0fff",
   "metadata": {},
   "outputs": [
    {
     "name": "stderr",
     "output_type": "stream",
     "text": [
      "c:\\users\\user\\appdata\\local\\programs\\python\\python38\\lib\\site-packages\\sklearn\\utils\\deprecation.py:87: FutureWarning: Function plot_confusion_matrix is deprecated; Function `plot_confusion_matrix` is deprecated in 1.0 and will be removed in 1.2. Use one of the class methods: ConfusionMatrixDisplay.from_predictions or ConfusionMatrixDisplay.from_estimator.\n",
      "  warnings.warn(msg, category=FutureWarning)\n"
     ]
    },
    {
     "data": {
      "text/plain": [
       "<sklearn.metrics._plot.confusion_matrix.ConfusionMatrixDisplay at 0x15ddd31f670>"
      ]
     },
     "execution_count": 11,
     "metadata": {},
     "output_type": "execute_result"
    },
    {
     "data": {
      "image/png": "[encoded data removed]",
      "text/plain": [
       "<Figure size 432x288 with 2 Axes>"
      ]
     },
     "metadata": {
      "needs_background": "light"
     },
     "output_type": "display_data"
    }
   ],
   "source": [
    "#Confusion Matrix\n",
    "from sklearn.svm import SVC\n",
    "from sklearn.metrics import plot_confusion_matrix\n",
    "clf = SVC(random_state=0)\n",
    "clf.fit(images_train, labels_train)\n",
    "plot_confusion_matrix(clf, images_test, labels_test) "
   ]
  },
  {
   "cell_type": "markdown",
   "id": "c8566de3",
   "metadata": {},
   "source": [
    "The models strugles the most with the number '4' is confused for '9'"
   ]
  },
  {
   "cell_type": "markdown",
   "id": "97ab54db",
   "metadata": {},
   "source": [
    "### Measuring Perfomance"
   ]
  },
  {
   "cell_type": "code",
   "execution_count": 12,
   "id": "e02396fa",
   "metadata": {},
   "outputs": [
    {
     "name": "stdout",
     "output_type": "stream",
     "text": [
      "Precision: 0.9712\n",
      "Recall: 0.9712\n"
     ]
    }
   ],
   "source": [
    "from sklearn.metrics import f1_score, precision_score, recall_score\n",
    "prec = precision_score(labels_test, predicted,average='micro')\n",
    "rec = recall_score(labels_test, predicted,average='micro')\n",
    "\n",
    "print('Precision:', prec)\n",
    "print('Recall:', rec)"
   ]
  },
  {
   "cell_type": "code",
   "execution_count": 13,
   "id": "0c01c70d",
   "metadata": {},
   "outputs": [
    {
     "name": "stdout",
     "output_type": "stream",
     "text": [
      "              precision    recall  f1-score   support\n",
      "\n",
      "           0       0.97      0.99      0.98       498\n",
      "           1       0.99      0.99      0.99       538\n",
      "           2       0.97      0.97      0.97       521\n",
      "           3       0.97      0.97      0.97       502\n",
      "           4       0.97      0.97      0.97       488\n",
      "           5       0.98      0.97      0.97       454\n",
      "           6       0.98      0.98      0.98       491\n",
      "           7       0.97      0.97      0.97       515\n",
      "           8       0.96      0.95      0.96       475\n",
      "           9       0.96      0.96      0.96       518\n",
      "\n",
      "    accuracy                           0.97      5000\n",
      "   macro avg       0.97      0.97      0.97      5000\n",
      "weighted avg       0.97      0.97      0.97      5000\n",
      "\n"
     ]
    }
   ],
   "source": [
    "from sklearn.metrics import classification_report\n",
    "#prints classification_report     \n",
    "print(classification_report(labels_test, predicted))\n",
    "\n",
    "#returns a dict, which you can easily sort by prediction\n",
    "report = classification_report(labels_test, predicted, output_dict=True)"
   ]
  },
  {
   "cell_type": "markdown",
   "id": "6b75f709",
   "metadata": {},
   "source": [
    "The class '9' was the hardest class"
   ]
  },
  {
   "cell_type": "markdown",
   "id": "0b172dc5",
   "metadata": {},
   "source": [
    "### Analysis"
   ]
  },
  {
   "cell_type": "code",
   "execution_count": null,
   "id": "c5d1f75a",
   "metadata": {},
   "outputs": [],
   "source": [
    "Boosting model perfomed better when looking at accuracy"
   ]
  }
 ],
 "metadata": {
  "kernelspec": {
   "display_name": "Python 3 (ipykernel)",
   "language": "python",
   "name": "python3"
  },
  "language_info": {
   "codemirror_mode": {
    "name": "ipython",
    "version": 3
   },
   "file_extension": ".py",
   "mimetype": "text/x-python",
   "name": "python",
   "nbconvert_exporter": "python",
   "pygments_lexer": "ipython3",
   "version": "3.9.12"
  }
 },
 "nbformat": 4,
 "nbformat_minor": 5
}
